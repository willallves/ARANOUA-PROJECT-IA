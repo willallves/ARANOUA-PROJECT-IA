{
 "cells": [
  {
   "cell_type": "code",
   "execution_count": 1,
   "metadata": {},
   "outputs": [],
   "source": [
    "import cv2\n",
    "import numpy as np\n",
    "import os"
   ]
  },
  {
   "cell_type": "code",
   "execution_count": 4,
   "metadata": {},
   "outputs": [],
   "source": [
    "video_path = '/app/'"
   ]
  },
  {
   "cell_type": "code",
   "execution_count": 5,
   "metadata": {},
   "outputs": [],
   "source": [
    "capture_video = cv2.VideoCapture(video_path + 'mont_russa.mp4')"
   ]
  },
  {
   "cell_type": "code",
   "execution_count": 6,
   "metadata": {},
   "outputs": [],
   "source": [
    "lower_red = np.array([0, 100, 100])\n",
    "upper_red = np.array([10, 255, 255])"
   ]
  },
  {
   "cell_type": "code",
   "execution_count": 7,
   "metadata": {},
   "outputs": [],
   "source": [
    "capture_video.set(cv2.CAP_PROP_POS_FRAMES, 0)\n",
    "\n",
    "output_path = 'red_img/'\n",
    "os.makedirs(output_path, exist_ok=True)"
   ]
  },
  {
   "cell_type": "code",
   "execution_count": 8,
   "metadata": {},
   "outputs": [],
   "source": [
    "frame_number = 0\n",
    "while True:\n",
    "    ret, frame = capture_video.read()\n",
    "    if not ret:\n",
    "        break\n",
    "    hsv_frame = cv2.cvtColor(frame, cv2.COLOR_BGR2HSV)\n",
    "    red_mask = cv2.inRange(hsv_frame, lower_red, upper_red)\n",
    "    red_part_filtered = cv2.bitwise_and(hsv_frame, hsv_frame, mask=red_mask)\n",
    "    red_part_filtered = cv2.cvtColor(red_part_filtered, cv2.COLOR_HSV2BGR)\n",
    "    output_frame_path = f'{output_path}reds_{frame_number:04d}.png'\n",
    "    cv2.imwrite(output_frame_path, red_part_filtered)\n",
    "\n",
    "    frame_number += 1\n",
    "\n",
    "capture_video.release()"
   ]
  },
  {
   "cell_type": "code",
   "execution_count": null,
   "metadata": {},
   "outputs": [],
   "source": []
  }
 ],
 "metadata": {
  "kernelspec": {
   "display_name": "Python 3 (ipykernel)",
   "language": "python",
   "name": "python3"
  },
  "language_info": {
   "codemirror_mode": {
    "name": "ipython",
    "version": 3
   },
   "file_extension": ".py",
   "mimetype": "text/x-python",
   "name": "python",
   "nbconvert_exporter": "python",
   "pygments_lexer": "ipython3",
   "version": "3.10.9"
  }
 },
 "nbformat": 4,
 "nbformat_minor": 2
}
