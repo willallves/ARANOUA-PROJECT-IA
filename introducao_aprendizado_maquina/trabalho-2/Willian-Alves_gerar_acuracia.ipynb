{
 "cells": [
  {
   "cell_type": "markdown",
   "id": "0610b65d",
   "metadata": {},
   "source": [
    "3 - Classifique o dataset Diabetes.csv. Mostre todo o passo a passo conforme executado em sala, até gerar acurácia do modelo. A coluna alvo é \"Outcome\"."
   ]
  },
  {
   "cell_type": "code",
   "execution_count": 3,
   "id": "50f17562",
   "metadata": {},
   "outputs": [
    {
     "name": "stdout",
     "output_type": "stream",
     "text": [
      "Collecting pandas\n",
      "  Downloading pandas-2.1.1-cp310-cp310-manylinux_2_17_x86_64.manylinux2014_x86_64.whl (12.3 MB)\n",
      "\u001b[2K     \u001b[90m━━━━━━━━━━━━━━━━━━━━━━━━━━━━━━━━━━━━━━━━\u001b[0m \u001b[32m12.3/12.3 MB\u001b[0m \u001b[31m4.2 MB/s\u001b[0m eta \u001b[36m0:00:00\u001b[0m00:01\u001b[0m00:01\u001b[0m\n",
      "\u001b[?25hRequirement already satisfied: numpy>=1.22.4 in /opt/conda/envs/learning-machine/lib/python3.10/site-packages (from pandas) (1.23.5)\n",
      "Requirement already satisfied: pytz>=2020.1 in /opt/conda/envs/learning-machine/lib/python3.10/site-packages (from pandas) (2022.7)\n",
      "Requirement already satisfied: python-dateutil>=2.8.2 in /opt/conda/envs/learning-machine/lib/python3.10/site-packages (from pandas) (2.8.2)\n",
      "Collecting tzdata>=2022.1\n",
      "  Downloading tzdata-2023.3-py2.py3-none-any.whl (341 kB)\n",
      "\u001b[2K     \u001b[90m━━━━━━━━━━━━━━━━━━━━━━━━━━━━━━━━━━━━━━━\u001b[0m \u001b[32m341.8/341.8 kB\u001b[0m \u001b[31m4.3 MB/s\u001b[0m eta \u001b[36m0:00:00\u001b[0m00:01\u001b[0m00:01\u001b[0m\n",
      "\u001b[?25hRequirement already satisfied: six>=1.5 in /opt/conda/envs/learning-machine/lib/python3.10/site-packages (from python-dateutil>=2.8.2->pandas) (1.16.0)\n",
      "Installing collected packages: tzdata, pandas\n",
      "Successfully installed pandas-2.1.1 tzdata-2023.3\n",
      "\u001b[33mWARNING: Running pip as the 'root' user can result in broken permissions and conflicting behaviour with the system package manager. It is recommended to use a virtual environment instead: https://pip.pypa.io/warnings/venv\u001b[0m\u001b[33m\n",
      "\u001b[0mCollecting scikit-learn\n",
      "  Downloading scikit_learn-1.3.1-cp310-cp310-manylinux_2_17_x86_64.manylinux2014_x86_64.whl (10.8 MB)\n",
      "\u001b[2K     \u001b[90m━━━━━━━━━━━━━━━━━━━━━━━━━━━━━━━━━━━━━━━━\u001b[0m \u001b[32m10.8/10.8 MB\u001b[0m \u001b[31m2.0 MB/s\u001b[0m eta \u001b[36m0:00:00\u001b[0m00:01\u001b[0m0:01\u001b[0m\n",
      "\u001b[?25hRequirement already satisfied: scipy>=1.5.0 in /opt/conda/envs/learning-machine/lib/python3.10/site-packages (from scikit-learn) (1.10.0)\n",
      "Collecting joblib>=1.1.1\n",
      "  Downloading joblib-1.3.2-py3-none-any.whl (302 kB)\n",
      "\u001b[2K     \u001b[90m━━━━━━━━━━━━━━━━━━━━━━━━━━━━━━━━━━━━━━━\u001b[0m \u001b[32m302.2/302.2 kB\u001b[0m \u001b[31m2.4 MB/s\u001b[0m eta \u001b[36m0:00:00\u001b[0ma \u001b[36m0:00:01\u001b[0m\n",
      "\u001b[?25hCollecting threadpoolctl>=2.0.0\n",
      "  Downloading threadpoolctl-3.2.0-py3-none-any.whl (15 kB)\n",
      "Requirement already satisfied: numpy<2.0,>=1.17.3 in /opt/conda/envs/learning-machine/lib/python3.10/site-packages (from scikit-learn) (1.23.5)\n",
      "Installing collected packages: threadpoolctl, joblib, scikit-learn\n",
      "Successfully installed joblib-1.3.2 scikit-learn-1.3.1 threadpoolctl-3.2.0\n",
      "\u001b[33mWARNING: Running pip as the 'root' user can result in broken permissions and conflicting behaviour with the system package manager. It is recommended to use a virtual environment instead: https://pip.pypa.io/warnings/venv\u001b[0m\u001b[33m\n",
      "\u001b[0m"
     ]
    }
   ],
   "source": [
    "!pip install pandas\n",
    "!pip install scikit-learn"
   ]
  },
  {
   "cell_type": "code",
   "execution_count": 25,
   "id": "772062e9",
   "metadata": {},
   "outputs": [],
   "source": [
    "import pandas as pd\n",
    "from sklearn.model_selection import train_test_split"
   ]
  },
  {
   "cell_type": "code",
   "execution_count": 26,
   "id": "37281581",
   "metadata": {},
   "outputs": [],
   "source": [
    "path = '/app/introducao_aprendizado_maquina/T2/'"
   ]
  },
  {
   "cell_type": "code",
   "execution_count": 27,
   "id": "6aecd0e2",
   "metadata": {},
   "outputs": [],
   "source": [
    "\n",
    "# Carregar o conjunto de dados\n",
    "data = pd.read_csv(path + 'Diabetes.csv')\n",
    "\n",
    "# Dividir em recursos (X) e variável alvo (y)\n",
    "X = data.drop('Outcome', axis=1)\n",
    "y = data['Outcome']"
   ]
  },
  {
   "cell_type": "markdown",
   "id": "aa0235c3",
   "metadata": {},
   "source": [
    "# Divisão 80/20 com Regressão Logística e SVM"
   ]
  },
  {
   "cell_type": "code",
   "execution_count": 28,
   "id": "250d2074",
   "metadata": {},
   "outputs": [],
   "source": [
    "from sklearn.linear_model import LogisticRegression\n",
    "from sklearn.svm import SVC\n",
    "# Estava dando erro no LogisticRegression() solu;áo encontrei nesse site\n",
    "# https://stackoverflow.com/questions/62658215/convergencewarning-lbfgs-failed-to-converge-status-1-stop-total-no-of-iter"
   ]
  },
  {
   "cell_type": "code",
   "execution_count": 31,
   "id": "901d6254",
   "metadata": {},
   "outputs": [
    {
     "name": "stdout",
     "output_type": "stream",
     "text": [
      "Acurácia da Regressão Logística (80/20): 0.75\n",
      "Acurácia do SVM (80/20): 0.77\n"
     ]
    }
   ],
   "source": [
    "# Divisão 80/20\n",
    "X_train_80, X_test_80, y_train_80, y_test_80 = train_test_split(X, y, test_size=0.2, random_state=42)\n",
    "\n",
    "# Regressão Logística\n",
    "model_lr_80 = LogisticRegression(solver='lbfgs', max_iter=5000)\n",
    "model_lr_80.fit(X_train_80, y_train_80)\n",
    "\n",
    "# SVM\n",
    "model_svm_80 = SVC()\n",
    "model_svm_80.fit(X_train_80, y_train_80)\n",
    "\n",
    "# Avaliar a acurácia dos modelos\n",
    "from sklearn.metrics import accuracy_score\n",
    "\n",
    "# Regressão Logística\n",
    "y_pred_lr_80 = model_lr_80.predict(X_test_80)\n",
    "accuracy_lr_80 = accuracy_score(y_test_80, y_pred_lr_80)\n",
    "print(f'Acurácia da Regressão Logística (80/20): {accuracy_lr_80:.2f}')\n",
    "\n",
    "# SVM\n",
    "y_pred_svm_80 = model_svm_80.predict(X_test_80)\n",
    "accuracy_svm_80 = accuracy_score(y_test_80, y_pred_svm_80)\n",
    "print(f'Acurácia do SVM (80/20): {accuracy_svm_80:.2f}')"
   ]
  },
  {
   "cell_type": "markdown",
   "id": "2232ba0f",
   "metadata": {},
   "source": [
    "# Divisão 75/25 com Regressão Logística e SVM"
   ]
  },
  {
   "cell_type": "code",
   "execution_count": 32,
   "id": "0ec9b24a",
   "metadata": {},
   "outputs": [
    {
     "name": "stdout",
     "output_type": "stream",
     "text": [
      "Acurácia da Regressão Logística (75/25): 0.72\n",
      "Acurácia do SVM (75/25): 0.73\n"
     ]
    }
   ],
   "source": [
    "# Divisão 75/25\n",
    "X_train_75, X_test_75, y_train_75, y_test_75 = train_test_split(X, y, test_size=0.25, random_state=42)\n",
    "\n",
    "# Regressão Logística\n",
    "model_lr_75 = LogisticRegression(solver='lbfgs', max_iter=5000)\n",
    "model_lr_75.fit(X_train_75, y_train_75)\n",
    "\n",
    "# SVM\n",
    "model_svm_75 = SVC()\n",
    "model_svm_75.fit(X_train_75, y_train_75)\n",
    "\n",
    "# Avaliar a acurácia dos modelos\n",
    "\n",
    "# Regressão Logística\n",
    "y_pred_lr_75 = model_lr_75.predict(X_test_75)\n",
    "accuracy_lr_75 = accuracy_score(y_test_75, y_pred_lr_75)\n",
    "print(f'Acurácia da Regressão Logística (75/25): {accuracy_lr_75:.2f}')\n",
    "\n",
    "# SVM\n",
    "y_pred_svm_75 = model_svm_75.predict(X_test_75)\n",
    "accuracy_svm_75 = accuracy_score(y_test_75, y_pred_svm_75)\n",
    "print(f'Acurácia do SVM (75/25): {accuracy_svm_75:.2f}')"
   ]
  },
  {
   "cell_type": "markdown",
   "id": "f6e68bbc",
   "metadata": {},
   "source": [
    "Estratégia 80/20 com ComplementNB"
   ]
  },
  {
   "cell_type": "code",
   "execution_count": 35,
   "id": "f78d8d1b",
   "metadata": {},
   "outputs": [
    {
     "name": "stdout",
     "output_type": "stream",
     "text": [
      "Acurácia do ComplementNB (80/20): 0.66\n"
     ]
    }
   ],
   "source": [
    "from sklearn.naive_bayes import ComplementNB\n",
    "from sklearn.metrics import accuracy_score\n",
    "\n",
    "# Divisão 80/20\n",
    "X_train_80, X_test_20, y_train_80, y_test_20 = train_test_split(X, y, test_size=0.2, random_state=42)\n",
    "\n",
    "# Treinar o modelo ComplementNB\n",
    "model_complement_nb = ComplementNB()\n",
    "model_complement_nb.fit(X_train_80, y_train_80)\n",
    "\n",
    "# Fazer previsões\n",
    "y_pred_complement_nb = model_complement_nb.predict(X_test_20)\n",
    "\n",
    "# Avaliar a acurácia do modelo ComplementNB\n",
    "accuracy_complement_nb = accuracy_score(y_test_20, y_pred_complement_nb)\n",
    "print(f'Acurácia do ComplementNB (80/20): {accuracy_complement_nb:.2f}')"
   ]
  },
  {
   "cell_type": "markdown",
   "id": "531684b0",
   "metadata": {},
   "source": [
    "Estratégia 75/25 com ComplementNB:"
   ]
  },
  {
   "cell_type": "code",
   "execution_count": 34,
   "id": "daed1151",
   "metadata": {},
   "outputs": [
    {
     "name": "stdout",
     "output_type": "stream",
     "text": [
      "Acurácia do ComplementNB (75/25): 0.61\n"
     ]
    }
   ],
   "source": [
    "from sklearn.naive_bayes import ComplementNB\n",
    "from sklearn.metrics import accuracy_score\n",
    "\n",
    "# Divisão 75/25\n",
    "X_train_75, X_test_25, y_train_75, y_test_25 = train_test_split(X, y, test_size=0.25, random_state=42)\n",
    "\n",
    "# Treinar o modelo ComplementNB\n",
    "model_complement_nb = ComplementNB()\n",
    "model_complement_nb.fit(X_train_75, y_train_75)\n",
    "\n",
    "# Fazer previsões\n",
    "y_pred_complement_nb = model_complement_nb.predict(X_test_25)\n",
    "\n",
    "# Avaliar a acurácia do modelo ComplementNB\n",
    "accuracy_complement_nb = accuracy_score(y_test_25, y_pred_complement_nb)\n",
    "print(f'Acurácia do ComplementNB (75/25): {accuracy_complement_nb:.2f}')"
   ]
  },
  {
   "cell_type": "code",
   "execution_count": null,
   "id": "014f0a2b",
   "metadata": {},
   "outputs": [],
   "source": []
  }
 ],
 "metadata": {
  "kernelspec": {
   "display_name": "Python 3 (ipykernel)",
   "language": "python",
   "name": "python3"
  },
  "language_info": {
   "codemirror_mode": {
    "name": "ipython",
    "version": 3
   },
   "file_extension": ".py",
   "mimetype": "text/x-python",
   "name": "python",
   "nbconvert_exporter": "python",
   "pygments_lexer": "ipython3",
   "version": "3.10.9"
  }
 },
 "nbformat": 4,
 "nbformat_minor": 5
}
